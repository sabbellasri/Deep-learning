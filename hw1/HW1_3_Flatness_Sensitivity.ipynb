{
  "nbformat": 4,
  "nbformat_minor": 0,
  "metadata": {
    "colab": {
      "provenance": []
    },
    "kernelspec": {
      "name": "python3",
      "display_name": "Python 3"
    },
    "language_info": {
      "name": "python"
    }
  },
  "cells": [
    {
      "cell_type": "code",
      "execution_count": 1,
      "metadata": {
        "id": "6h7sGp1wARbv"
      },
      "outputs": [],
      "source": [
        "import tensorflow as tf\n",
        "import numpy as np\n",
        "import torch\n",
        "import torchvision as tv\n",
        "from torchvision import transforms, datasets\n",
        "import torch.nn as nn\n",
        "import torch.nn.functional as F\n",
        "import torch.optim as optim\n",
        "import matplotlib.pyplot as plt\n",
        "from torchsummary import summary"
      ]
    },
    {
      "cell_type": "code",
      "source": [
        "trainingDataSet = datasets.MNIST('', train=True, download=True, transform=transforms.Compose([transforms.ToTensor()]))\n",
        "testingDataSet = datasets.MNIST('', train=False, download=True, transform=transforms.Compose([transforms.ToTensor()]))"
      ],
      "metadata": {
        "id": "00-DmwohAa3V",
        "colab": {
          "base_uri": "https://localhost:8080/"
        },
        "outputId": "c42b8f9b-bed7-496f-9e3c-662b6257dbad"
      },
      "execution_count": 2,
      "outputs": [
        {
          "output_type": "stream",
          "name": "stdout",
          "text": [
            "Downloading http://yann.lecun.com/exdb/mnist/train-images-idx3-ubyte.gz\n",
            "Downloading http://yann.lecun.com/exdb/mnist/train-images-idx3-ubyte.gz to MNIST/raw/train-images-idx3-ubyte.gz\n"
          ]
        },
        {
          "output_type": "stream",
          "name": "stderr",
          "text": [
            "100%|██████████| 9912422/9912422 [00:00<00:00, 107160799.65it/s]\n"
          ]
        },
        {
          "output_type": "stream",
          "name": "stdout",
          "text": [
            "Extracting MNIST/raw/train-images-idx3-ubyte.gz to MNIST/raw\n",
            "\n",
            "Downloading http://yann.lecun.com/exdb/mnist/train-labels-idx1-ubyte.gz\n",
            "Downloading http://yann.lecun.com/exdb/mnist/train-labels-idx1-ubyte.gz to MNIST/raw/train-labels-idx1-ubyte.gz\n"
          ]
        },
        {
          "output_type": "stream",
          "name": "stderr",
          "text": [
            "100%|██████████| 28881/28881 [00:00<00:00, 82405233.89it/s]"
          ]
        },
        {
          "output_type": "stream",
          "name": "stdout",
          "text": [
            "Extracting MNIST/raw/train-labels-idx1-ubyte.gz to MNIST/raw\n",
            "\n",
            "Downloading http://yann.lecun.com/exdb/mnist/t10k-images-idx3-ubyte.gz\n"
          ]
        },
        {
          "output_type": "stream",
          "name": "stderr",
          "text": [
            "\n"
          ]
        },
        {
          "output_type": "stream",
          "name": "stdout",
          "text": [
            "Downloading http://yann.lecun.com/exdb/mnist/t10k-images-idx3-ubyte.gz to MNIST/raw/t10k-images-idx3-ubyte.gz\n"
          ]
        },
        {
          "output_type": "stream",
          "name": "stderr",
          "text": [
            "100%|██████████| 1648877/1648877 [00:00<00:00, 27939157.44it/s]\n"
          ]
        },
        {
          "output_type": "stream",
          "name": "stdout",
          "text": [
            "Extracting MNIST/raw/t10k-images-idx3-ubyte.gz to MNIST/raw\n",
            "\n",
            "Downloading http://yann.lecun.com/exdb/mnist/t10k-labels-idx1-ubyte.gz\n",
            "Downloading http://yann.lecun.com/exdb/mnist/t10k-labels-idx1-ubyte.gz to MNIST/raw/t10k-labels-idx1-ubyte.gz\n"
          ]
        },
        {
          "output_type": "stream",
          "name": "stderr",
          "text": [
            "100%|██████████| 4542/4542 [00:00<00:00, 14153438.91it/s]\n"
          ]
        },
        {
          "output_type": "stream",
          "name": "stdout",
          "text": [
            "Extracting MNIST/raw/t10k-labels-idx1-ubyte.gz to MNIST/raw\n",
            "\n"
          ]
        }
      ]
    },
    {
      "cell_type": "code",
      "source": [
        "# Set different batch sizes for each of the 5 different models\n",
        "batchSizes = [5, 25, 50, 100, 200]\n",
        "\n",
        "train_loaders = [torch.utils.data.DataLoader(trainingDataSet, batch_size=batch_size, shuffle=True) for batch_size in batchSizes]\n",
        "test_loaders = [torch.utils.data.DataLoader(testingDataSet, batch_size=batch_size, shuffle=True) for batch_size in batchSizes]\n"
      ],
      "metadata": {
        "id": "h-4lQxbMAgLa"
      },
      "execution_count": 3,
      "outputs": []
    },
    {
      "cell_type": "code",
      "source": [
        "#  16640 Parameters\n",
        "class Model1 (nn.Module):\n",
        "    def __init__(self):\n",
        "        super().__init__()\n",
        "        self.fc1 = nn.Linear(784, 20)\n",
        "        self.fc2 = nn.Linear(20, 30)\n",
        "        self.fc3 = nn.Linear(30, 10)\n",
        "\n",
        "    def forward(self, val):\n",
        "        val = F.relu(self.fc1(val))\n",
        "        val = F.relu(self.fc2(val))\n",
        "        val = self.fc3(val)\n",
        "        return val\n",
        "\n",
        "# 16640 Parameters\n",
        "class Model2 (nn.Module):\n",
        "    def __init__(self):\n",
        "        super().__init__()\n",
        "        self.fc1 = nn.Linear(784, 20)\n",
        "        self.fc2 = nn.Linear(20, 30)\n",
        "        self.fc3 = nn.Linear(30, 10)\n",
        "\n",
        "    def forward(self, val):\n",
        "        val = F.relu(self.fc1(val))\n",
        "        val = F.relu(self.fc2(val))\n",
        "        val = self.fc3(val)\n",
        "        return val\n",
        "\n",
        "# 16640 Parameters\n",
        "class Model3 (nn.Module):\n",
        "    def __init__(self):\n",
        "        super().__init__()\n",
        "        self.fc1 = nn.Linear(784, 20)\n",
        "        self.fc2 = nn.Linear(20, 30)\n",
        "        self.fc3 = nn.Linear(30, 10)\n",
        "\n",
        "    def forward(self, val):\n",
        "        val = F.relu(self.fc1(val))\n",
        "        val = F.relu(self.fc2(val))\n",
        "        val = self.fc3(val)\n",
        "        return val\n",
        "\n",
        "# 16640 Parameters\n",
        "class Model4 (nn.Module):\n",
        "    def __init__(self):\n",
        "        super().__init__()\n",
        "        self.fc1 = nn.Linear(784, 20)\n",
        "        self.fc2 = nn.Linear(20, 30)\n",
        "        self.fc3 = nn.Linear(30, 10)\n",
        "\n",
        "    def forward(self, val):\n",
        "        val = F.relu(self.fc1(val))\n",
        "        val = F.relu(self.fc2(val))\n",
        "        val = self.fc3(val)\n",
        "        return val\n",
        "\n",
        "# 16640 Parameters\n",
        "class Model5 (nn.Module):\n",
        "    def __init__(self):\n",
        "        super().__init__()\n",
        "        self.fc1 = nn.Linear(784, 20)\n",
        "        self.fc2 = nn.Linear(20, 30)\n",
        "        self.fc3 = nn.Linear(30, 10)\n",
        "\n",
        "    def forward(self, val):\n",
        "        val = F.relu(self.fc1(val))\n",
        "        val = F.relu(self.fc2(val))\n",
        "        val = self.fc3(val)\n",
        "        return val"
      ],
      "metadata": {
        "id": "u6WrT65XBPa5"
      },
      "execution_count": 4,
      "outputs": []
    },
    {
      "cell_type": "code",
      "source": [
        "models = [Model1(), Model2(), Model3(), Model4(), Model5()]\n",
        "optimizers = [optim.SGD(model.parameters(), lr=0.001) for model in models]\n",
        "lossFunc = nn.CrossEntropyLoss()\n",
        "for model in models:\n",
        "    summary(model, (28 * 28,))\n",
        "\n",
        "\n"
      ],
      "metadata": {
        "id": "OnoVZBMRBTxA",
        "colab": {
          "base_uri": "https://localhost:8080/"
        },
        "outputId": "620daa83-3b22-474a-92b0-34e8b950e060"
      },
      "execution_count": 8,
      "outputs": [
        {
          "output_type": "stream",
          "name": "stdout",
          "text": [
            "----------------------------------------------------------------\n",
            "        Layer (type)               Output Shape         Param #\n",
            "================================================================\n",
            "            Linear-1                   [-1, 20]          15,700\n",
            "            Linear-2                   [-1, 30]             630\n",
            "            Linear-3                   [-1, 10]             310\n",
            "================================================================\n",
            "Total params: 16,640\n",
            "Trainable params: 16,640\n",
            "Non-trainable params: 0\n",
            "----------------------------------------------------------------\n",
            "Input size (MB): 0.00\n",
            "Forward/backward pass size (MB): 0.00\n",
            "Params size (MB): 0.06\n",
            "Estimated Total Size (MB): 0.07\n",
            "----------------------------------------------------------------\n",
            "----------------------------------------------------------------\n",
            "        Layer (type)               Output Shape         Param #\n",
            "================================================================\n",
            "            Linear-1                   [-1, 20]          15,700\n",
            "            Linear-2                   [-1, 30]             630\n",
            "            Linear-3                   [-1, 10]             310\n",
            "================================================================\n",
            "Total params: 16,640\n",
            "Trainable params: 16,640\n",
            "Non-trainable params: 0\n",
            "----------------------------------------------------------------\n",
            "Input size (MB): 0.00\n",
            "Forward/backward pass size (MB): 0.00\n",
            "Params size (MB): 0.06\n",
            "Estimated Total Size (MB): 0.07\n",
            "----------------------------------------------------------------\n",
            "----------------------------------------------------------------\n",
            "        Layer (type)               Output Shape         Param #\n",
            "================================================================\n",
            "            Linear-1                   [-1, 20]          15,700\n",
            "            Linear-2                   [-1, 30]             630\n",
            "            Linear-3                   [-1, 10]             310\n",
            "================================================================\n",
            "Total params: 16,640\n",
            "Trainable params: 16,640\n",
            "Non-trainable params: 0\n",
            "----------------------------------------------------------------\n",
            "Input size (MB): 0.00\n",
            "Forward/backward pass size (MB): 0.00\n",
            "Params size (MB): 0.06\n",
            "Estimated Total Size (MB): 0.07\n",
            "----------------------------------------------------------------\n",
            "----------------------------------------------------------------\n",
            "        Layer (type)               Output Shape         Param #\n",
            "================================================================\n",
            "            Linear-1                   [-1, 20]          15,700\n",
            "            Linear-2                   [-1, 30]             630\n",
            "            Linear-3                   [-1, 10]             310\n",
            "================================================================\n",
            "Total params: 16,640\n",
            "Trainable params: 16,640\n",
            "Non-trainable params: 0\n",
            "----------------------------------------------------------------\n",
            "Input size (MB): 0.00\n",
            "Forward/backward pass size (MB): 0.00\n",
            "Params size (MB): 0.06\n",
            "Estimated Total Size (MB): 0.07\n",
            "----------------------------------------------------------------\n",
            "----------------------------------------------------------------\n",
            "        Layer (type)               Output Shape         Param #\n",
            "================================================================\n",
            "            Linear-1                   [-1, 20]          15,700\n",
            "            Linear-2                   [-1, 30]             630\n",
            "            Linear-3                   [-1, 10]             310\n",
            "================================================================\n",
            "Total params: 16,640\n",
            "Trainable params: 16,640\n",
            "Non-trainable params: 0\n",
            "----------------------------------------------------------------\n",
            "Input size (MB): 0.00\n",
            "Forward/backward pass size (MB): 0.00\n",
            "Params size (MB): 0.06\n",
            "Estimated Total Size (MB): 0.07\n",
            "----------------------------------------------------------------\n"
          ]
        }
      ]
    },
    {
      "cell_type": "code",
      "source": [
        "\n",
        "\n",
        "EPOCHS = 50\n",
        "\n",
        "for epoch in range(EPOCHS):\n",
        "    print(f\"Epoch: {epoch + 1}\")\n",
        "\n",
        "    for model, optimizer, loader in zip(models, optimizers, train_loaders):\n",
        "        model.train()\n",
        "\n",
        "        for inputImages, actual in loader:\n",
        "            optimizer.zero_grad()\n",
        "            output = model(inputImages.view(-1, 784))\n",
        "            cost = lossFunc(output, actual)\n",
        "            cost.backward()\n",
        "            optimizer.step()\n"
      ],
      "metadata": {
        "colab": {
          "base_uri": "https://localhost:8080/"
        },
        "id": "gabXvBuYBdAK",
        "outputId": "84b3c834-dece-46f7-9be1-bb8e62198c2f"
      },
      "execution_count": 9,
      "outputs": [
        {
          "output_type": "stream",
          "name": "stdout",
          "text": [
            "Epoch: 1\n",
            "Epoch: 2\n",
            "Epoch: 3\n",
            "Epoch: 4\n",
            "Epoch: 5\n",
            "Epoch: 6\n",
            "Epoch: 7\n",
            "Epoch: 8\n",
            "Epoch: 9\n",
            "Epoch: 10\n",
            "Epoch: 11\n",
            "Epoch: 12\n",
            "Epoch: 13\n",
            "Epoch: 14\n",
            "Epoch: 15\n",
            "Epoch: 16\n",
            "Epoch: 17\n",
            "Epoch: 18\n",
            "Epoch: 19\n",
            "Epoch: 20\n",
            "Epoch: 21\n",
            "Epoch: 22\n",
            "Epoch: 23\n",
            "Epoch: 24\n",
            "Epoch: 25\n",
            "Epoch: 26\n",
            "Epoch: 27\n",
            "Epoch: 28\n",
            "Epoch: 29\n",
            "Epoch: 30\n",
            "Epoch: 31\n",
            "Epoch: 32\n",
            "Epoch: 33\n",
            "Epoch: 34\n",
            "Epoch: 35\n",
            "Epoch: 36\n",
            "Epoch: 37\n",
            "Epoch: 38\n",
            "Epoch: 39\n",
            "Epoch: 40\n",
            "Epoch: 41\n",
            "Epoch: 42\n",
            "Epoch: 43\n",
            "Epoch: 44\n",
            "Epoch: 45\n",
            "Epoch: 46\n",
            "Epoch: 47\n",
            "Epoch: 48\n",
            "Epoch: 49\n",
            "Epoch: 50\n"
          ]
        }
      ]
    },
    {
      "cell_type": "code",
      "source": [
        "def calculate_metrics(model, loader, loss_func):\n",
        "    correct = 0\n",
        "    total = 0\n",
        "    cost_total = 0\n",
        "    cost_counter = 0\n",
        "\n",
        "    with torch.no_grad():\n",
        "        for batch in loader:\n",
        "            input_images, actual = batch\n",
        "            output = model(input_images.view(-1, 784))\n",
        "            cost = loss_func(output, actual)\n",
        "            cost_total += cost.detach().numpy()\n",
        "            cost_counter += 1\n",
        "\n",
        "            for i, output_tensor in enumerate(output):\n",
        "                if torch.argmax(output_tensor) == actual[i]:\n",
        "                    correct += 1\n",
        "                total += 1\n",
        "\n",
        "    return cost_total / cost_counter, round(correct / total, 3)\n",
        "\n",
        "trainCostList= []\n",
        "trainAccList = []\n",
        "testCostList = []\n",
        "testAccList = []\n",
        "\n",
        "\n",
        "for model, train_loader in zip(models, train_loaders):\n",
        "    model_correct = 0\n",
        "    model_total = 0\n",
        "    model_cost_total = 0\n",
        "    model_cost_counter = 0\n",
        "\n",
        "    train_cost, train_acc = calculate_metrics(model, train_loader, lossFunc)\n",
        "    trainCostList.append(train_cost)\n",
        "    trainAccList.append(train_acc)\n",
        "\n",
        "for model, train_loader in zip(models, test_loaders):\n",
        "    model_correct = 0\n",
        "    model_total = 0\n",
        "    model_cost_total = 0\n",
        "    model_cost_counter = 0\n",
        "\n",
        "    test_cost, test_acc = calculate_metrics(model, train_loader, lossFunc)\n",
        "    testCostList.append(train_cost)\n",
        "    testAccList.append(train_acc)\n"
      ],
      "metadata": {
        "id": "I-M7vWuEBoy4"
      },
      "execution_count": 10,
      "outputs": []
    },
    {
      "cell_type": "code",
      "source": [],
      "metadata": {
        "id": "Ekv-oPUiBwIc"
      },
      "execution_count": null,
      "outputs": []
    },
    {
      "cell_type": "code",
      "source": [
        "def calculate_sensitivity(model):\n",
        "    sensitivity_list = []\n",
        "\n",
        "    for p in model.parameters():\n",
        "        if p.grad is not None:\n",
        "            grad_norm = torch.linalg.norm(p.grad).numpy()\n",
        "            sensitivity_list.append(grad_norm)\n",
        "\n",
        "    return sum(sensitivity_list) / len(sensitivity_list)\n",
        "\n",
        "sensitivity_list = [calculate_sensitivity(model) for model in models]\n"
      ],
      "metadata": {
        "id": "oikZknGuBzDo"
      },
      "execution_count": 11,
      "outputs": []
    },
    {
      "cell_type": "code",
      "source": [
        "# Accuracy and Sensitivity by batch size of model\n",
        "fig, ax1 = plt.subplots()\n",
        "ax2 = ax1.twinx()\n",
        "ax1.plot(batchSizes, trainAccList, 'b', label='Train')\n",
        "ax1.plot(batchSizes, testAccList, 'b--', label='Test')\n",
        "ax2.plot(batchSizes, sensitivity_list, 'r', label='Sensitivity')\n",
        "ax1.set_title('Effect of Batch Size on Accuracy and Sensitivity')\n",
        "ax1.set_xlabel('Batch Sizes')\n",
        "ax1.set_xscale('log')\n",
        "ax1.set_ylabel('Accuracy', color='b')\n",
        "ax2.set_ylabel('Sensitivity', color='r')\n",
        "ax1.legend()"
      ],
      "metadata": {
        "colab": {
          "base_uri": "https://localhost:8080/",
          "height": 494
        },
        "id": "iTncmAeSB0Jt",
        "outputId": "0871a571-2db9-4200-ec87-d05d3157ea03"
      },
      "execution_count": 12,
      "outputs": [
        {
          "output_type": "execute_result",
          "data": {
            "text/plain": [
              "<matplotlib.legend.Legend at 0x7eb680742620>"
            ]
          },
          "metadata": {},
          "execution_count": 12
        },
        {
          "output_type": "display_data",
          "data": {
            "text/plain": [
              "<Figure size 640x480 with 2 Axes>"
            ],
            "image/png": "[encoded data removed]"
          },
          "metadata": {}
        }
      ]
    },
    {
      "cell_type": "code",
      "source": [
        "# Loss and Sensitivity by batch size of model\n",
        "fig, ax1 = plt.subplots()\n",
        "ax2 = ax1.twinx()\n",
        "ax1.plot(batchSizes, trainCostList, 'b', label='Train')\n",
        "ax1.plot(batchSizes, testCostList, 'b--', label='Test')\n",
        "ax2.plot(batchSizes, sensitivity_list, 'r', label='Sensitivity')\n",
        "ax1.set_title('Effect of Batch Size on Loss and Sensitivity')\n",
        "ax1.set_xlabel('Batch Sizes')\n",
        "ax1.set_xscale('log')\n",
        "ax1.set_ylabel('Loss', color='b')\n",
        "ax2.set_ylabel('Sensitivity', color='r')\n",
        "ax1.legend()"
      ],
      "metadata": {
        "colab": {
          "base_uri": "https://localhost:8080/",
          "height": 494
        },
        "id": "5SP5gaN_B4je",
        "outputId": "f9d958fc-0cb4-444e-fb94-c5006b6c5492"
      },
      "execution_count": 13,
      "outputs": [
        {
          "output_type": "execute_result",
          "data": {
            "text/plain": [
              "<matplotlib.legend.Legend at 0x7eb6805664a0>"
            ]
          },
          "metadata": {},
          "execution_count": 13
        },
        {
          "output_type": "display_data",
          "data": {
            "text/plain": [
              "<Figure size 640x480 with 2 Axes>"
            ],
            "image/png": "[encoded data removed]"
          },
          "metadata": {}
        }
      ]
    }
  ]
}