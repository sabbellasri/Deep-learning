{
  "cells": [
    {
      "cell_type": "code",
      "execution_count": null,
      "metadata": {
        "id": "SMKQnebEB12x"
      },
      "outputs": [],
      "source": [
        "import torch\n",
        "import torch.nn as nn\n",
        "import torch.optim as optim\n",
        "from torchvision import datasets, transforms\n",
        "from torch.autograd import Variable\n",
        "from PIL import Image\n",
        "import torch.nn.functional as F\n",
        "import numpy as np\n",
        "import matplotlib.pyplot as plt\n"
      ]
    },
    {
      "cell_type": "code",
      "execution_count": null,
      "metadata": {
        "id": "At_di4m8B120"
      },
      "outputs": [],
      "source": [
        "def load_data(train_batch_size, test_batch_size):\n",
        "    # Fetch training data: total 60000 samples\n",
        "\n",
        "    trainset = datasets.MNIST('data', train = True, download = True,\n",
        "                transform = transforms.Compose([\n",
        "                transforms.ToTensor()\n",
        "                ]))\n",
        "    train_loader = torch.utils.data.DataLoader(trainset, batch_size = train_batch_size, shuffle=True)\n",
        "\n",
        "    testset = datasets.MNIST('data', train = False, download = True,\n",
        "                transform = transforms.Compose([\n",
        "                transforms.ToTensor()\n",
        "                ]))\n",
        "    test_loader = torch.utils.data.DataLoader(testset ,batch_size = test_batch_size, shuffle=True)\n",
        "\n",
        "    return (train_loader, test_loader)"
      ]
    },
    {
      "cell_type": "code",
      "execution_count": null,
      "metadata": {
        "id": "OZAUH93dB120"
      },
      "outputs": [],
      "source": [
        "\n",
        "\n",
        "class GenericModel(nn.Module):\n",
        "    def __init__(self, input_size, hidden_sizes, output_size):\n",
        "        super(GenericModel, self).__init__()\n",
        "        self.fc_layers = nn.ModuleList()\n",
        "\n",
        "        self.fc_layers.append(nn.Linear(input_size, hidden_sizes[0]))\n",
        "\n",
        "        for i in range(len(hidden_sizes) - 1):\n",
        "            self.fc_layers.append(nn.Linear(hidden_sizes[i], hidden_sizes[i+1]))\n",
        "\n",
        "\n",
        "        self.fc_layers.append(nn.Linear(hidden_sizes[-1], output_size))\n",
        "\n",
        "    def forward(self, x):\n",
        "        for layer in self.fc_layers[:-1]:\n",
        "            x = F.relu(layer(x))\n",
        "        x = self.fc_layers[-1](x)\n",
        "        return x\n",
        "\n",
        "\n"
      ]
    },
    {
      "cell_type": "code",
      "execution_count": null,
      "metadata": {
        "colab": {
          "base_uri": "https://localhost:8080/"
        },
        "id": "hUdB6PE2B120",
        "outputId": "c8898fad-7b0f-40a4-a091-de0a8212a265"
      },
      "outputs": [
        {
          "name": "stdout",
          "output_type": "stream",
          "text": [
            "Downloading http://yann.lecun.com/exdb/mnist/train-images-idx3-ubyte.gz\n",
            "Downloading http://yann.lecun.com/exdb/mnist/train-images-idx3-ubyte.gz to data/MNIST/raw/train-images-idx3-ubyte.gz\n"
          ]
        },
        {
          "name": "stderr",
          "output_type": "stream",
          "text": [
            "100%|██████████| 9912422/9912422 [00:00<00:00, 148933077.96it/s]\n"
          ]
        },
        {
          "name": "stdout",
          "output_type": "stream",
          "text": [
            "Extracting data/MNIST/raw/train-images-idx3-ubyte.gz to data/MNIST/raw\n",
            "\n",
            "Downloading http://yann.lecun.com/exdb/mnist/train-labels-idx1-ubyte.gz\n",
            "Downloading http://yann.lecun.com/exdb/mnist/train-labels-idx1-ubyte.gz to data/MNIST/raw/train-labels-idx1-ubyte.gz\n"
          ]
        },
        {
          "name": "stderr",
          "output_type": "stream",
          "text": [
            "100%|██████████| 28881/28881 [00:00<00:00, 31084345.35it/s]\n"
          ]
        },
        {
          "name": "stdout",
          "output_type": "stream",
          "text": [
            "Extracting data/MNIST/raw/train-labels-idx1-ubyte.gz to data/MNIST/raw\n",
            "\n",
            "Downloading http://yann.lecun.com/exdb/mnist/t10k-images-idx3-ubyte.gz\n",
            "Downloading http://yann.lecun.com/exdb/mnist/t10k-images-idx3-ubyte.gz to data/MNIST/raw/t10k-images-idx3-ubyte.gz\n"
          ]
        },
        {
          "name": "stderr",
          "output_type": "stream",
          "text": [
            "100%|██████████| 1648877/1648877 [00:00<00:00, 57628106.20it/s]"
          ]
        },
        {
          "name": "stdout",
          "output_type": "stream",
          "text": [
            "Extracting data/MNIST/raw/t10k-images-idx3-ubyte.gz to data/MNIST/raw\n"
          ]
        },
        {
          "name": "stderr",
          "output_type": "stream",
          "text": [
            "\n"
          ]
        },
        {
          "name": "stdout",
          "output_type": "stream",
          "text": [
            "\n",
            "Downloading http://yann.lecun.com/exdb/mnist/t10k-labels-idx1-ubyte.gz\n",
            "Downloading http://yann.lecun.com/exdb/mnist/t10k-labels-idx1-ubyte.gz to data/MNIST/raw/t10k-labels-idx1-ubyte.gz\n"
          ]
        },
        {
          "name": "stderr",
          "output_type": "stream",
          "text": [
            "100%|██████████| 4542/4542 [00:00<00:00, 15264846.77it/s]\n"
          ]
        },
        {
          "name": "stdout",
          "output_type": "stream",
          "text": [
            "Extracting data/MNIST/raw/t10k-labels-idx1-ubyte.gz to data/MNIST/raw\n",
            "\n"
          ]
        }
      ],
      "source": [
        "\n",
        "train_loader, test_loader = load_data(50, 100)\n",
        "epochs = 10"
      ]
    },
    {
      "cell_type": "code",
      "execution_count": null,
      "metadata": {
        "id": "IVtfOj3VB121"
      },
      "outputs": [],
      "source": [
        "def calc_params(model):\n",
        "    return sum(p.numel() for p in model.parameters())\n",
        "def define_optimizer(model):\n",
        "    return optim.Adam(model.parameters(), lr = 0.0001)"
      ]
    },
    {
      "cell_type": "code",
      "execution_count": null,
      "metadata": {
        "id": "OlEpMGDAB121"
      },
      "outputs": [],
      "source": [
        "def train(model, optimizer, train_loader, loss_fn):\n",
        "    model.train()\n",
        "\n",
        "    for batch_idx, (data, target) in enumerate(train_loader):\n",
        "        data, target = Variable(data), Variable(target)\n",
        "        optimizer.zero_grad()\n",
        "\n",
        "        # Forward propagation\n",
        "        output = model(data.view(-1, 784))\n",
        "        loss = loss_fn(output, target)\n",
        "        loss.backward()\n",
        "        optimizer.step()"
      ]
    },
    {
      "cell_type": "code",
      "execution_count": null,
      "metadata": {
        "id": "r1W393skB121"
      },
      "outputs": [],
      "source": [
        "def calculate_loss(model, loader, loss_fn):\n",
        "    correct = 0\n",
        "    total = 0\n",
        "    costTotal = 0\n",
        "    costCounter = 0\n",
        "    with torch.no_grad():\n",
        "        for batch in loader:\n",
        "            data, target = batch\n",
        "            output = model(data.view(-1, 784))\n",
        "            cost = loss_fn(output, target)\n",
        "            costTotal += cost\n",
        "            costCounter += 1\n",
        "            for i, outputTensor in enumerate(output):\n",
        "                if torch.argmax(outputTensor) == target[i]:\n",
        "                    correct += 1\n",
        "                total += 1\n",
        "    return costTotal / costCounter, round(correct/total, 3)"
      ]
    },
    {
      "cell_type": "code",
      "execution_count": null,
      "metadata": {
        "id": "F9XaQ2AOB121"
      },
      "outputs": [],
      "source": [
        "def compute(model, optimizer):\n",
        "    loss_fn = torch.nn.CrossEntropyLoss()\n",
        "    for epoch in range(1, epochs + 1):\n",
        "        train(model, optimizer, train_loader, loss_fn)\n",
        "        train_loss, train_acc = calculate_loss(model, train_loader, loss_fn)\n",
        "        test_loss, test_acc = calculate_loss(model, test_loader, loss_fn)\n",
        "    loss_train_arr.append(train_loss)\n",
        "    loss_test_arr.append(test_loss)\n",
        "    param_arr.append(calc_params(model))\n",
        "    print(\"Model Train loss: \", train_loss)\n",
        "    print(\"Model Test loss: \", test_loss)\n",
        "    train_acc_arr.append(train_acc)\n",
        "    test_acc_arr.append(test_acc)\n"
      ]
    },
    {
      "cell_type": "code",
      "execution_count": null,
      "metadata": {
        "colab": {
          "background_save": true,
          "base_uri": "https://localhost:8080/"
        },
        "id": "Wvqpx76kB122",
        "outputId": "b8715e61-1d5d-4f15-85df-47ce41dd1cf2"
      },
      "outputs": [
        {
          "name": "stdout",
          "output_type": "stream",
          "text": [
            "Model 1 parameters:  4079\n",
            "Model Train loss:  tensor(0.5004)\n",
            "Model Test loss:  tensor(0.4929)\n",
            "Model 2 parameters:  21435\n",
            "Model Train loss:  tensor(0.2325)\n",
            "Model Test loss:  tensor(0.2319)\n",
            "Model 3 parameters:  45360\n",
            "Model Train loss:  tensor(0.1641)\n",
            "Model Test loss:  tensor(0.1699)\n",
            "Model 4 parameters:  55630\n",
            "Model Train loss:  tensor(0.1607)\n",
            "Model Test loss:  tensor(0.1658)\n",
            "Model 5 parameters:  100710\n",
            "Model Train loss:  tensor(0.1147)\n",
            "Model Test loss:  tensor(0.1276)\n",
            "Model 6 parameters:  166060\n",
            "Model Train loss:  tensor(0.0822)\n",
            "Model Test loss:  tensor(0.1012)\n",
            "Model 7 parameters:  241410\n",
            "Model Train loss:  tensor(0.0629)\n",
            "Model Test loss:  tensor(0.0893)\n",
            "Model 8 parameters:  326760\n",
            "Model Train loss:  tensor(0.0515)\n",
            "Model Test loss:  tensor(0.0812)\n",
            "Model 9 parameters:  382770\n",
            "Model Train loss:  tensor(0.0445)\n",
            "Model Test loss:  tensor(0.0760)\n",
            "Model 10 parameters:  491360\n",
            "Model Train loss:  tensor(0.0354)\n",
            "Model Test loss:  tensor(0.0722)\n"
          ]
        }
      ],
      "source": [
        "model1 = GenericModel(784, [5, 9], 10)\n",
        "model2 = GenericModel(784, [25, 50], 10)\n",
        "model3 = GenericModel(784, [50, 100], 10)\n",
        "model4 = GenericModel(784, [60, 120], 10)\n",
        "model5 = GenericModel(784, [100, 200], 10)\n",
        "model6 = GenericModel(784, [150, 300], 10)\n",
        "model7 = GenericModel(784, [200, 400], 10)\n",
        "model8 = GenericModel(784, [250, 500], 10)\n",
        "model9 = GenericModel(784, [280, 560], 10)\n",
        "model10 = GenericModel(784, [350, 600], 10)\n",
        "loss_train_arr = []\n",
        "loss_test_arr = []\n",
        "param_arr = []\n",
        "test_acc_arr = []\n",
        "train_acc_arr = []\n",
        "print(\"Model 1 parameters: \", (calc_params(model1)))\n",
        "optimizer = define_optimizer(model1)\n",
        "compute(model1, optimizer)\n",
        "\n",
        "\n",
        "torch.manual_seed(1)\n",
        "print(\"Model 2 parameters: \", (calc_params(model2)))\n",
        "optimizer = define_optimizer(model2)\n",
        "compute(model2, optimizer)\n",
        "\n",
        "\n",
        "torch.manual_seed(1)\n",
        "print(\"Model 3 parameters: \", (calc_params(model3)))\n",
        "optimizer = define_optimizer(model3)\n",
        "compute(model3, optimizer)\n",
        "\n",
        "\n",
        "torch.manual_seed(1)\n",
        "print(\"Model 4 parameters: \", (calc_params(model4)))\n",
        "optimizer = define_optimizer(model4)\n",
        "compute(model4, optimizer)\n",
        "\n",
        "\n",
        "torch.manual_seed(1)\n",
        "print(\"Model 5 parameters: \", (calc_params(model5)))\n",
        "optimizer = define_optimizer(model5)\n",
        "compute(model5, optimizer)\n",
        "\n",
        "torch.manual_seed(1)\n",
        "print(\"Model 6 parameters: \", (calc_params(model6)))\n",
        "optimizer = define_optimizer(model6)\n",
        "compute(model6, optimizer)\n",
        "\n",
        "\n",
        "torch.manual_seed(1)\n",
        "print(\"Model 7 parameters: \", (calc_params(model7)))\n",
        "optimizer = define_optimizer(model7)\n",
        "compute(model7, optimizer)\n",
        "\n",
        "torch.manual_seed(1)\n",
        "print(\"Model 8 parameters: \", (calc_params(model8)))\n",
        "optimizer = define_optimizer(model8)\n",
        "compute(model8, optimizer)\n",
        "\n",
        "\n",
        "torch.manual_seed(1)\n",
        "print(\"Model 9 parameters: \", (calc_params(model9)))\n",
        "optimizer = define_optimizer(model9)\n",
        "compute(model9, optimizer)\n",
        "\n",
        "\n",
        "torch.manual_seed(1)\n",
        "print(\"Model 10 parameters: \", (calc_params(model10)))\n",
        "optimizer = define_optimizer(model10)\n",
        "compute(model10, optimizer)"
      ]
    },
    {
      "cell_type": "code",
      "execution_count": 11,
      "metadata": {
        "id": "K2W754x7B122"
      },
      "outputs": [],
      "source": [
        "temp_1 = []\n",
        "for i in loss_train_arr:\n",
        "    temp_1.append(i.data.numpy().tolist())\n",
        "\n",
        "temp_2 = []\n",
        "for i in loss_test_arr:\n",
        "    temp_2.append(i.data.numpy().tolist())"
      ]
    },
    {
      "cell_type": "code",
      "execution_count": 12,
      "metadata": {
        "id": "FIPy5snsB123",
        "outputId": "9a4cf51d-7461-4a78-ec0f-e39664980480",
        "colab": {
          "base_uri": "https://localhost:8080/",
          "height": 564
        }
      },
      "outputs": [
        {
          "output_type": "display_data",
          "data": {
            "text/plain": [
              "<Figure size 1200x600 with 1 Axes>"
            ],
            "image/png": "[encoded data removed]"
          },
          "metadata": {}
        }
      ],
      "source": [
        "plt.figure(figsize=(12,6))\n",
        "plt.scatter(param_arr, temp_1, color = \"r\")\n",
        "plt.scatter(param_arr, temp_2, color = \"g\")\n",
        "plt.title('Model Loss Comparision')\n",
        "plt.legend(['Train Loss', 'Test Loss'])\n",
        "plt.xlabel('Parameters')\n",
        "plt.ylabel('Loss')\n",
        "plt.show()"
      ]
    },
    {
      "cell_type": "code",
      "execution_count": 13,
      "metadata": {
        "id": "yHCyC1qDB123",
        "outputId": "2319ce93-5ecd-40cf-b5f0-bc39d2b887f1",
        "colab": {
          "base_uri": "https://localhost:8080/",
          "height": 564
        }
      },
      "outputs": [
        {
          "output_type": "display_data",
          "data": {
            "text/plain": [
              "<Figure size 1200x600 with 1 Axes>"
            ],
            "image/png": "[encoded data removed]"
          },
          "metadata": {}
        }
      ],
      "source": [
        "plt.figure(figsize=(12,6))\n",
        "plt.scatter(param_arr, train_acc_arr, color = \"r\")\n",
        "plt.scatter(param_arr, test_acc_arr, color = \"g\")\n",
        "plt.title('Model Acc Comparision')\n",
        "plt.legend(['Train Accuracy', 'Test Accuracy'])\n",
        "plt.xlabel('Parameters')\n",
        "plt.ylabel('Accuracy')\n",
        "plt.show()"
      ]
    }
  ],
  "metadata": {
    "colab": {
      "provenance": []
    },
    "interpreter": {
      "hash": "5bcb6c7cbbdabfbd239545406bf14933d83f61910dc16e50b2bdd97eecb45211"
    },
    "kernelspec": {
      "display_name": "Python 3.9.7 ('pytube')",
      "language": "python",
      "name": "python3"
    },
    "language_info": {
      "codemirror_mode": {
        "name": "ipython",
        "version": 3
      },
      "file_extension": ".py",
      "mimetype": "text/x-python",
      "name": "python",
      "nbconvert_exporter": "python",
      "pygments_lexer": "ipython3",
      "version": "3.8.3"
    }
  },
  "nbformat": 4,
  "nbformat_minor": 0
}