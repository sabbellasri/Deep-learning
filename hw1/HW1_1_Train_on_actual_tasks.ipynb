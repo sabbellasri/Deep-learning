{
  "cells": [
    {
      "cell_type": "code",
      "execution_count": null,
      "metadata": {
        "id": "daa12f1f"
      },
      "outputs": [],
      "source": [
        "import numpy as np\n",
        "import torch\n",
        "import matplotlib.pyplot as plt\n",
        "import torch.nn as nn\n",
        "import torchvision.datasets as dset\n",
        "import torchvision.transforms as transforms\n",
        "import torch.nn.functional as F\n",
        "import torch.optim as optim\n",
        "from torch.autograd import Variable\n",
        "from torchvision import datasets\n"
      ],
      "id": "daa12f1f"
    },
    {
      "cell_type": "code",
      "execution_count": null,
      "metadata": {
        "id": "dc4a31be"
      },
      "outputs": [],
      "source": [
        "# Download MNIST dataset\n",
        "def load_data(train_batch_size, test_batch_size):\n",
        "    common_transform = transforms.Compose([\n",
        "        transforms.Resize((32, 32)),\n",
        "        transforms.ToTensor()\n",
        "    ])\n",
        "\n",
        "    train_loader = torch.utils.data.DataLoader(\n",
        "        datasets.MNIST('data', train=True, download=True, transform=common_transform),\n",
        "        batch_size=train_batch_size, shuffle=True\n",
        "    )\n",
        "\n",
        "    test_loader = torch.utils.data.DataLoader(\n",
        "        datasets.MNIST('data', train=False, transform=common_transform),\n",
        "        batch_size=test_batch_size, shuffle=True\n",
        "    )\n",
        "\n",
        "    return train_loader, test_loader\n"
      ],
      "id": "dc4a31be"
    },
    {
      "cell_type": "code",
      "execution_count": null,
      "metadata": {
        "id": "eac2bfcc"
      },
      "outputs": [],
      "source": [
        "class Model_1(nn.Module):\n",
        "    def __init__(self):\n",
        "        super(Model_1, self).__init__()\n",
        "\n",
        "        self.c1 = nn.Conv2d(1, 6, 5)\n",
        "        self.c2 = nn.Conv2d(6, 16, 5)\n",
        "        self.l1 = nn.Linear(16 * 5 * 5, 120)\n",
        "        self.l2 = nn.Linear(120, 84)\n",
        "        self.l3 = nn.Linear(84, 10)\n",
        "\n",
        "    def forward(self, x):\n",
        "        x = F.max_pool2d(F.relu(self.c1(x)), 2)\n",
        "        x = F.max_pool2d(F.relu(self.c2(x)), 2)\n",
        "        x = x.view(x.size()[0], -1)\n",
        "        x = F.relu(self.l1(x))\n",
        "        x = F.relu(self.l2(x))\n",
        "        x = self.l3(x)\n",
        "\n",
        "        return x"
      ],
      "id": "eac2bfcc"
    },
    {
      "cell_type": "code",
      "execution_count": null,
      "metadata": {
        "id": "e95ff9b4"
      },
      "outputs": [],
      "source": [
        "def train_model(model, loss_func, epoch, data, optimizer):\n",
        "    running_loss = 0\n",
        "    sizes_sample = 0\n",
        "    true_predictions = 0\n",
        "    cumulative_loss = 0\n",
        "    i = 0\n",
        "\n",
        "    for batch_idx, (x, target) in enumerate(data):\n",
        "        i += 1\n",
        "        optimizer.zero_grad()\n",
        "        x, expected_out = Variable(x), Variable(target)\n",
        "        output = model(x)\n",
        "        loss = loss_func(output, expected_out)\n",
        "        loss.backward()\n",
        "        optimizer.step()\n",
        "        predicted_output = np.argmax(output.data, axis=1)\n",
        "\n",
        "        sizes_sample = sizes_sample + target.size(0)\n",
        "        true_predictions = true_predictions + (predicted_output == expected_out).sum().item()\n",
        "        accuracy = 100.0 * true_predictions / sizes_sample\n",
        "        cumulative_loss = cumulative_loss + loss.data\n",
        "\n",
        "        if (batch_idx + 1) % 150 == 0 or (batch_idx + 1) == len(data):\n",
        "            print('Epoch: {}, accuracy: {}, train loss: {:.6f}'.format(\n",
        "                epoch, round(accuracy, 2), loss.data))\n",
        "\n",
        "    running_loss = cumulative_loss / i\n",
        "    return running_loss, round(accuracy, 2)\n"
      ],
      "id": "e95ff9b4"
    },
    {
      "cell_type": "code",
      "execution_count": 10,
      "metadata": {
        "colab": {
          "base_uri": "https://localhost:8080/"
        },
        "id": "944672ed",
        "outputId": "1a59d53b-a7de-407d-f9a7-146246f47023"
      },
      "outputs": [
        {
          "output_type": "stream",
          "name": "stdout",
          "text": [
            "Epoch: 1, accuracy: 38.71, train loss: 0.588681\n",
            "Epoch: 1, accuracy: 63.4, train loss: 0.249831\n",
            "Epoch: 1, accuracy: 73.17, train loss: 0.119204\n",
            "Epoch: 1, accuracy: 78.67, train loss: 0.091855\n",
            "Epoch: 1, accuracy: 82.11, train loss: 0.269969\n",
            "Epoch: 1, accuracy: 84.48, train loss: 0.220623\n",
            "Epoch: 1, accuracy: 84.95, train loss: 0.382179\n",
            "Epoch: 2, accuracy: 97.15, train loss: 0.247784\n",
            "Epoch: 2, accuracy: 97.07, train loss: 0.075277\n",
            "Epoch: 2, accuracy: 97.05, train loss: 0.123232\n",
            "Epoch: 2, accuracy: 97.17, train loss: 0.052959\n",
            "Epoch: 2, accuracy: 97.27, train loss: 0.047144\n",
            "Epoch: 2, accuracy: 97.27, train loss: 0.136026\n",
            "Epoch: 2, accuracy: 97.3, train loss: 0.013054\n",
            "Epoch: 3, accuracy: 98.26, train loss: 0.061720\n",
            "Epoch: 3, accuracy: 98.15, train loss: 0.030347\n",
            "Epoch: 3, accuracy: 98.05, train loss: 0.175718\n",
            "Epoch: 3, accuracy: 98.09, train loss: 0.211341\n",
            "Epoch: 3, accuracy: 98.16, train loss: 0.190790\n",
            "Epoch: 3, accuracy: 98.16, train loss: 0.031052\n",
            "Epoch: 3, accuracy: 98.17, train loss: 0.005442\n",
            "Epoch: 4, accuracy: 98.45, train loss: 0.030258\n",
            "Epoch: 4, accuracy: 98.44, train loss: 0.006313\n",
            "Epoch: 4, accuracy: 98.5, train loss: 0.046993\n",
            "Epoch: 4, accuracy: 98.51, train loss: 0.028208\n",
            "Epoch: 4, accuracy: 98.53, train loss: 0.021015\n",
            "Epoch: 4, accuracy: 98.56, train loss: 0.016859\n",
            "Epoch: 4, accuracy: 98.57, train loss: 0.001592\n",
            "Epoch: 5, accuracy: 98.95, train loss: 0.089233\n",
            "Epoch: 5, accuracy: 98.8, train loss: 0.008599\n",
            "Epoch: 5, accuracy: 98.82, train loss: 0.077209\n",
            "Epoch: 5, accuracy: 98.83, train loss: 0.002021\n",
            "Epoch: 5, accuracy: 98.81, train loss: 0.035333\n",
            "Epoch: 5, accuracy: 98.85, train loss: 0.066136\n",
            "Epoch: 5, accuracy: 98.83, train loss: 0.011524\n",
            "Epoch: 6, accuracy: 99.04, train loss: 0.159181\n",
            "Epoch: 6, accuracy: 99.0, train loss: 0.046321\n",
            "Epoch: 6, accuracy: 98.99, train loss: 0.002226\n",
            "Epoch: 6, accuracy: 98.98, train loss: 0.090412\n",
            "Epoch: 6, accuracy: 99.02, train loss: 0.005250\n",
            "Epoch: 6, accuracy: 98.98, train loss: 0.109762\n",
            "Epoch: 6, accuracy: 98.98, train loss: 0.062704\n",
            "Epoch: 7, accuracy: 99.34, train loss: 0.080975\n",
            "Epoch: 7, accuracy: 99.29, train loss: 0.073778\n",
            "Epoch: 7, accuracy: 99.2, train loss: 0.014248\n",
            "Epoch: 7, accuracy: 99.14, train loss: 0.002519\n",
            "Epoch: 7, accuracy: 99.12, train loss: 0.073288\n",
            "Epoch: 7, accuracy: 99.12, train loss: 0.069370\n",
            "Epoch: 7, accuracy: 99.13, train loss: 0.003578\n",
            "Epoch: 8, accuracy: 99.33, train loss: 0.004381\n",
            "Epoch: 8, accuracy: 99.34, train loss: 0.003775\n",
            "Epoch: 8, accuracy: 99.24, train loss: 0.042919\n",
            "Epoch: 8, accuracy: 99.23, train loss: 0.004453\n",
            "Epoch: 8, accuracy: 99.2, train loss: 0.020815\n",
            "Epoch: 8, accuracy: 99.23, train loss: 0.004659\n",
            "Epoch: 8, accuracy: 99.24, train loss: 0.000831\n",
            "Epoch: 9, accuracy: 99.46, train loss: 0.030557\n",
            "Epoch: 9, accuracy: 99.45, train loss: 0.064496\n",
            "Epoch: 9, accuracy: 99.41, train loss: 0.007896\n",
            "Epoch: 9, accuracy: 99.4, train loss: 0.006873\n",
            "Epoch: 9, accuracy: 99.38, train loss: 0.005379\n",
            "Epoch: 9, accuracy: 99.37, train loss: 0.021992\n",
            "Epoch: 9, accuracy: 99.38, train loss: 0.022124\n"
          ]
        }
      ],
      "source": [
        "train_data, test_data = load_data(64, 1000)\n",
        "model = Model_1()\n",
        "optimizer = optim.SGD(model.parameters(), lr=0.01, momentum=0.9)\n",
        "loss_func = nn.CrossEntropyLoss()\n",
        "loss_arr = []\n",
        "accuracy_arr = []\n",
        "\n",
        "for epoch in range(1, 10):\n",
        "    loss, accuracy = train_model(model, loss_func, epoch, train_data, optimizer)\n",
        "    loss_arr.append(loss)\n",
        "    accuracy_arr.append(accuracy)"
      ],
      "id": "944672ed"
    },
    {
      "cell_type": "markdown",
      "metadata": {
        "id": "79586690"
      },
      "source": [
        "<h3> Accuracy Plot <h3>"
      ],
      "id": "79586690"
    },
    {
      "cell_type": "code",
      "execution_count": null,
      "metadata": {
        "id": "d0b308b3"
      },
      "outputs": [],
      "source": [
        "class Model_2(nn.Module):\n",
        "    def __init__(self):\n",
        "        super(Model_2, self).__init__()\n",
        "        self.conv1 = nn.Conv2d(1, 32, 5)\n",
        "        self.conv2 = nn.Conv2d(32, 64, 5)\n",
        "        self.conv3 = nn.Conv2d(64, 64, 5)\n",
        "        self.fc1 = nn.Linear(1024, 256)\n",
        "        self.fc2 = nn.Linear(256, 10)\n",
        "\n",
        "    def forward(self, x):\n",
        "        x = F.relu(self.conv1(x))\n",
        "        x = F.relu(F.max_pool2d(self.conv2(x), 2))\n",
        "        x = F.dropout(x, p=0.5, training=self.training)\n",
        "        x = F.relu(F.max_pool2d(self.conv3(x), 2))\n",
        "        x = F.dropout(x, p=0.5, training=self.training)\n",
        "        x = x.view(x.size()[0], -1)\n",
        "        x = F.relu(self.fc1(x))\n",
        "        x = F.dropout(x, training=self.training)\n",
        "        x = self.fc2(x)\n",
        "        return F.log_softmax(x, dim=1)\n"
      ],
      "id": "d0b308b3"
    },
    {
      "cell_type": "code",
      "execution_count": null,
      "metadata": {
        "colab": {
          "background_save": true,
          "base_uri": "https://localhost:8080/"
        },
        "id": "30c876d9",
        "outputId": "a4d035a8-e183-48aa-9c86-c7b0c212cb60"
      },
      "outputs": [
        {
          "name": "stdout",
          "output_type": "stream",
          "text": [
            "New epoch\n",
            "Epoch: 1, accuracy: 49.06, train loss: 0.478246\n",
            "Epoch: 1, accuracy: 68.3, train loss: 0.211650\n",
            "Epoch: 1, accuracy: 76.14, train loss: 0.128162\n",
            "Epoch: 1, accuracy: 80.47, train loss: 0.158658\n",
            "Epoch: 1, accuracy: 83.3, train loss: 0.118484\n",
            "Epoch: 1, accuracy: 85.27, train loss: 0.057118\n",
            "Epoch: 1, accuracy: 85.68, train loss: 0.086544\n",
            "New epoch\n",
            "Epoch: 2, accuracy: 95.59, train loss: 0.083855\n",
            "Epoch: 2, accuracy: 95.92, train loss: 0.063563\n",
            "Epoch: 2, accuracy: 95.95, train loss: 0.048727\n",
            "Epoch: 2, accuracy: 96.1, train loss: 0.067250\n",
            "Epoch: 2, accuracy: 96.22, train loss: 0.048776\n",
            "Epoch: 2, accuracy: 96.36, train loss: 0.039079\n",
            "Epoch: 2, accuracy: 96.36, train loss: 0.232617\n",
            "New epoch\n",
            "Epoch: 3, accuracy: 97.16, train loss: 0.096931\n",
            "Epoch: 3, accuracy: 97.26, train loss: 0.128446\n",
            "Epoch: 3, accuracy: 97.24, train loss: 0.129774\n",
            "Epoch: 3, accuracy: 97.23, train loss: 0.046015\n",
            "Epoch: 3, accuracy: 97.27, train loss: 0.050696\n",
            "Epoch: 3, accuracy: 97.29, train loss: 0.032946\n",
            "Epoch: 3, accuracy: 97.3, train loss: 0.004219\n",
            "New epoch\n",
            "Epoch: 4, accuracy: 97.56, train loss: 0.028183\n",
            "Epoch: 4, accuracy: 97.58, train loss: 0.017284\n",
            "Epoch: 4, accuracy: 97.62, train loss: 0.022551\n",
            "Epoch: 4, accuracy: 97.65, train loss: 0.053364\n",
            "Epoch: 4, accuracy: 97.71, train loss: 0.019776\n",
            "Epoch: 4, accuracy: 97.7, train loss: 0.165254\n",
            "Epoch: 4, accuracy: 97.69, train loss: 0.004312\n",
            "New epoch\n",
            "Epoch: 5, accuracy: 97.92, train loss: 0.017205\n",
            "Epoch: 5, accuracy: 97.94, train loss: 0.097082\n",
            "Epoch: 5, accuracy: 97.99, train loss: 0.091457\n",
            "Epoch: 5, accuracy: 97.97, train loss: 0.028321\n",
            "Epoch: 5, accuracy: 98.0, train loss: 0.038344\n",
            "Epoch: 5, accuracy: 97.98, train loss: 0.151750\n",
            "Epoch: 5, accuracy: 97.98, train loss: 0.068913\n",
            "New epoch\n",
            "Epoch: 6, accuracy: 98.22, train loss: 0.082583\n",
            "Epoch: 6, accuracy: 98.22, train loss: 0.009385\n",
            "Epoch: 6, accuracy: 98.12, train loss: 0.023211\n",
            "Epoch: 6, accuracy: 98.18, train loss: 0.007117\n",
            "Epoch: 6, accuracy: 98.21, train loss: 0.027389\n",
            "Epoch: 6, accuracy: 98.2, train loss: 0.029055\n",
            "Epoch: 6, accuracy: 98.2, train loss: 0.076996\n",
            "New epoch\n",
            "Epoch: 7, accuracy: 98.45, train loss: 0.004874\n",
            "Epoch: 7, accuracy: 98.38, train loss: 0.104384\n",
            "Epoch: 7, accuracy: 98.41, train loss: 0.084932\n",
            "Epoch: 7, accuracy: 98.4, train loss: 0.027175\n",
            "Epoch: 7, accuracy: 98.38, train loss: 0.088258\n",
            "Epoch: 7, accuracy: 98.39, train loss: 0.080841\n",
            "Epoch: 7, accuracy: 98.37, train loss: 0.043782\n",
            "New epoch\n",
            "Epoch: 8, accuracy: 98.32, train loss: 0.140627\n",
            "Epoch: 8, accuracy: 98.44, train loss: 0.001496\n",
            "Epoch: 8, accuracy: 98.43, train loss: 0.012207\n",
            "Epoch: 8, accuracy: 98.41, train loss: 0.026950\n",
            "Epoch: 8, accuracy: 98.4, train loss: 0.033065\n",
            "Epoch: 8, accuracy: 98.38, train loss: 0.004714\n",
            "Epoch: 8, accuracy: 98.39, train loss: 0.027988\n",
            "New epoch\n",
            "Epoch: 9, accuracy: 98.52, train loss: 0.015782\n",
            "Epoch: 9, accuracy: 98.53, train loss: 0.028320\n",
            "Epoch: 9, accuracy: 98.5, train loss: 0.022422\n",
            "Epoch: 9, accuracy: 98.54, train loss: 0.032458\n",
            "Epoch: 9, accuracy: 98.52, train loss: 0.045042\n",
            "Epoch: 9, accuracy: 98.55, train loss: 0.017113\n",
            "Epoch: 9, accuracy: 98.56, train loss: 0.001279\n",
            "New epoch\n",
            "Epoch: 10, accuracy: 98.54, train loss: 0.030019\n",
            "Epoch: 10, accuracy: 98.54, train loss: 0.043301\n",
            "Epoch: 10, accuracy: 98.55, train loss: 0.028204\n",
            "Epoch: 10, accuracy: 98.62, train loss: 0.018956\n",
            "Epoch: 10, accuracy: 98.61, train loss: 0.044989\n",
            "Epoch: 10, accuracy: 98.62, train loss: 0.008269\n",
            "Epoch: 10, accuracy: 98.62, train loss: 0.003577\n"
          ]
        }
      ],
      "source": [
        "train_data, test_data = load_data(64, 1000)\n",
        "model = Model_2()\n",
        "optimizer = optim.SGD(model.parameters(), lr=0.01, momentum=0.9)\n",
        "loss_func = nn.CrossEntropyLoss()\n",
        "loss_arr_2 = []\n",
        "accuracy_arr_2 = []\n",
        "\n",
        "for epoch in range(1, 11):\n",
        "    print('New epoch')\n",
        "    loss, accuracy = train_model(model, loss_func, epoch, train_data, optimizer)\n",
        "    loss_arr_2.append(loss)\n",
        "    accuracy_arr_2.append(accuracy)"
      ],
      "id": "30c876d9"
    },
    {
      "cell_type": "code",
      "execution_count": 12,
      "metadata": {
        "id": "be7c8ed9",
        "outputId": "62d079b3-c306-4f9b-bc81-508aa842b58f",
        "colab": {
          "base_uri": "https://localhost:8080/",
          "height": 453
        }
      },
      "outputs": [
        {
          "output_type": "display_data",
          "data": {
            "text/plain": [
              "<Figure size 640x480 with 1 Axes>"
            ],
            "image/png": "[encoded data removed]"
          },
          "metadata": {}
        }
      ],
      "source": [
        "plt.xlabel('Epoch')\n",
        "plt.ylabel('Accuracy')\n",
        "plt.plot(np.arange(1,10,1), accuracy_arr, color = \"blue\")\n",
        "plt.plot(np.arange(1,11,1), accuracy_arr_2, color = \"red\")\n",
        "plt.legend(['Model 1', 'Model 2'])\n",
        "plt.show()"
      ],
      "id": "be7c8ed9"
    },
    {
      "cell_type": "code",
      "execution_count": 14,
      "metadata": {
        "id": "a33f1975",
        "outputId": "a4a8c7e0-7b91-4c0d-b5a1-e265b8269ecd",
        "colab": {
          "base_uri": "https://localhost:8080/",
          "height": 449
        }
      },
      "outputs": [
        {
          "output_type": "display_data",
          "data": {
            "text/plain": [
              "<Figure size 640x480 with 1 Axes>"
            ],
            "image/png": "[encoded data removed]"
          },
          "metadata": {}
        }
      ],
      "source": [
        "plt.xlabel('Epoch')\n",
        "plt.ylabel('Loss')\n",
        "plt.plot(np.arange(1,10,1), loss_arr, color = \"blue\")\n",
        "plt.plot(np.arange(1,11,1), loss_arr_2, color = \"red\")\n",
        "plt.legend(['Model 1', 'Model 2'])\n",
        "plt.show()"
      ],
      "id": "a33f1975"
    },
    {
      "cell_type": "code",
      "execution_count": null,
      "metadata": {
        "id": "8f5bb954"
      },
      "outputs": [],
      "source": [],
      "id": "8f5bb954"
    }
  ],
  "metadata": {
    "colab": {
      "provenance": []
    },
    "kernelspec": {
      "display_name": "Python 3 (ipykernel)",
      "language": "python",
      "name": "python3"
    },
    "language_info": {
      "codemirror_mode": {
        "name": "ipython",
        "version": 3
      },
      "file_extension": ".py",
      "mimetype": "text/x-python",
      "name": "python",
      "nbconvert_exporter": "python",
      "pygments_lexer": "ipython3",
      "version": "3.9.13"
    }
  },
  "nbformat": 4,
  "nbformat_minor": 5
}